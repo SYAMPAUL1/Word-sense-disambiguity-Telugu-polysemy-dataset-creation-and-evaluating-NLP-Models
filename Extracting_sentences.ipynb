{
 "cells": [
  {
   "cell_type": "code",
   "execution_count": null,
   "id": "89e79150",
   "metadata": {},
   "outputs": [
    {
     "name": "stderr",
     "output_type": "stream",
     "text": [
      "[nltk_data] Downloading package punkt to\n",
      "[nltk_data]     /Users/syamimmanuelpaulbondada/nltk_data...\n",
      "[nltk_data]   Package punkt is already up-to-date!\n"
     ]
    }
   ],
   "source": [
    "import csv\n",
    "import re\n",
    "import nltk\n",
    "nltk.download('punkt')\n",
    "from nltk.tokenize import sent_tokenize\n",
    "\n",
    "def extract_sentences_with_word_from_file(file_path, target_word):\n",
    "    # Read text from file\n",
    "    with open(file_path, 'r', encoding='utf-8') as file:\n",
    "        text = file.read()\n",
    "\n",
    "    # Split the text into lines first\n",
    "    lines = text.splitlines()\n",
    "\n",
    "    # Set to store unique sentences containing the target word\n",
    "    matched_sentences = set()\n",
    "\n",
    "    # Define a regex pattern for the target word to handle case-insensitivity and word boundaries\n",
    "    pattern = re.compile(r'\\b{}\\b'.format(re.escape(target_word)), re.IGNORECASE)\n",
    "\n",
    "    # Iterate through each line, then through each sentence within the line\n",
    "    for line in lines:\n",
    "        sentences = sent_tokenize(line)\n",
    "        for sentence in sentences:\n",
    "            if pattern.search(sentence):\n",
    "                matched_sentences.add(sentence.strip())\n",
    "\n",
    "    return matched_sentences\n",
    "\n",
    "def save_to_csv(sentences, csv_file):\n",
    "    with open(csv_file, 'w', newline='', encoding='utf-8') as file:\n",
    "        writer = csv.writer(file)\n",
    "        writer.writerow(['Sentences'])\n",
    "        for sentence in sorted(sentences):  # Optional: sort sentences before writing\n",
    "            writer.writerow([sentence])\n",
    "\n",
    "# Example usage:\n",
    "file_path = '/Users/syamimmanuelpaulbondada/Downloads/te.txt'  # Replace with your file path\n",
    "target_word = ' కాంతి '  # Replace with your target word\n",
    "csv_file = '/Users/syamimmanuelpaulbondada/Downloads/kanthi.csv'  # Replace with your desired CSV file path\n",
    "\n",
    "# Extract sentences containing the word\n",
    "matching_sentences = extract_sentences_with_word_from_file(file_path, target_word)\n",
    "\n",
    "# Save matching sentences to CSV file\n",
    "save_to_csv(matching_sentences, csv_file)\n",
    "\n",
    "print(f\"Extracted {len(matching_sentences)} unique sentences containing '{target_word}' to '{csv_file}'\")\n"
   ]
  }
 ],
 "metadata": {
  "kernelspec": {
   "display_name": "Python 3 (ipykernel)",
   "language": "python",
   "name": "python3"
  },
  "language_info": {
   "codemirror_mode": {
    "name": "ipython",
    "version": 3
   },
   "file_extension": ".py",
   "mimetype": "text/x-python",
   "name": "python",
   "nbconvert_exporter": "python",
   "pygments_lexer": "ipython3",
   "version": "3.11.5"
  }
 },
 "nbformat": 4,
 "nbformat_minor": 5
}
